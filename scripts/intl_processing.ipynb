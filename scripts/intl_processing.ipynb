{
 "cells": [
  {
   "cell_type": "markdown",
   "metadata": {},
   "source": [
    "# Pre-processing Script for OWID COVID-19 Data"
   ]
  },
  {
   "cell_type": "markdown",
   "metadata": {},
   "source": [
    "## Updated: 2021-03-28"
   ]
  },
  {
   "cell_type": "markdown",
   "metadata": {},
   "source": [
    "Set up notebook"
   ]
  },
  {
   "cell_type": "code",
   "execution_count": null,
   "metadata": {},
   "outputs": [],
   "source": [
    "import datetime\n",
    "import numpy as np\n",
    "import pandas as pd"
   ]
  },
  {
   "cell_type": "markdown",
   "metadata": {},
   "source": [
    "Pull data and convert date field, handle null values"
   ]
  },
  {
   "cell_type": "code",
   "execution_count": null,
   "metadata": {},
   "outputs": [],
   "source": [
    "url = 'https://raw.githubusercontent.com/rjanhealth/covid-19-data/master/public/data/owid-covid-data.csv'\n",
    "df = pd.read_csv(url, error_bad_lines=False)\n",
    "df['date']= pd.to_datetime(df['date']) "
   ]
  },
  {
   "cell_type": "code",
   "execution_count": null,
   "metadata": {},
   "outputs": [],
   "source": [
    "df = df[df.columns.drop(list(df.filter(regex='smoothed|hundred|thousand|million|weekly|total|stringency|per_case|positive')))]"
   ]
  },
  {
   "cell_type": "markdown",
   "metadata": {},
   "source": [
    "Tidy data"
   ]
  },
  {
   "cell_type": "code",
   "execution_count": null,
   "metadata": {},
   "outputs": [],
   "source": [
    "df = df.drop(df[df.location.isin(['World', 'International'])].index)\n",
    "df = df.rename(columns={'location':'country',\n",
    "                        'new_tests':'tests',\n",
    "                        'new_cases':'cases',\n",
    "                        'new_vaccinations':'vaccinations',\n",
    "                        'new_deaths':'deaths',\n",
    "                        'iso_code':'iso3c',\n",
    "                        'human_development_index':'human_dev_idx'})\n",
    "df.dropna(subset=['iso3c'], inplace=True)\n",
    "df.dropna(subset=['continent'], inplace=True)"
   ]
  },
  {
   "cell_type": "markdown",
   "metadata": {},
   "source": [
    "Change data types & case"
   ]
  },
  {
   "cell_type": "code",
   "execution_count": null,
   "metadata": {},
   "outputs": [],
   "source": [
    "df[\"population\"] = df[\"population\"].astype('Int64')\n",
    "df[\"cases\"] = df[\"cases\"].astype('Int64')\n",
    "df[\"tests\"] = df[\"tests\"].astype('Int64')\n",
    "df[\"deaths\"] = df[\"deaths\"].astype('Int64')\n",
    "df[\"icu_patients\"] = df[\"icu_patients\"].astype('Int64')\n",
    "df[\"hosp_patients\"] = df[\"hosp_patients\"].astype('Int64')\n",
    "df[\"people_vaccinated\"] = df[\"people_vaccinated\"].astype('Int64')\n",
    "df[\"vaccinations\"] = df[\"vaccinations\"].astype('Int64')\n",
    "df[\"people_fully_vaccinated\"] = df[\"people_fully_vaccinated\"].astype('Int64')\n",
    "df.columns= df.columns.str.upper()"
   ]
  },
  {
   "cell_type": "markdown",
   "metadata": {},
   "source": [
    "Split data"
   ]
  },
  {
   "cell_type": "code",
   "execution_count": null,
   "metadata": {
    "scrolled": true
   },
   "outputs": [],
   "source": [
    "dim_country = df[['ISO3C', 'CONTINENT','COUNTRY','POPULATION','POPULATION_DENSITY','MEDIAN_AGE','AGED_65_OLDER','AGED_70_OLDER','GDP_PER_CAPITA','EXTREME_POVERTY','CARDIOVASC_DEATH_RATE','DIABETES_PREVALENCE','FEMALE_SMOKERS','MALE_SMOKERS','HANDWASHING_FACILITIES','LIFE_EXPECTANCY','HUMAN_DEV_IDX']]"
   ]
  },
  {
   "cell_type": "code",
   "execution_count": null,
   "metadata": {},
   "outputs": [],
   "source": [
    "dim_country = dim_country.drop_duplicates()"
   ]
  },
  {
   "cell_type": "code",
   "execution_count": null,
   "metadata": {},
   "outputs": [],
   "source": [
    "fact_covid = df[['DATE','ISO3C','CASES','DEATHS','REPRODUCTION_RATE','ICU_PATIENTS','HOSP_PATIENTS','TESTS','TESTS_UNITS','PEOPLE_VACCINATED','PEOPLE_FULLY_VACCINATED','VACCINATIONS']]"
   ]
  },
  {
   "cell_type": "markdown",
   "metadata": {},
   "source": [
    "Export data"
   ]
  },
  {
   "cell_type": "code",
   "execution_count": 9,
   "metadata": {},
   "outputs": [],
   "source": [
    "path='C:\\\\Users\\\\vicsxk6\\\\OneDrive - Department of Health and Human Services. Victoria\\\\Documents\\\\Python Scripts\\\\other_jurisdictions\\\\output\\\\'\n",
    "df.to_excel(path+'intl.xlsx', index=False)\n",
    "dim_country.to_csv(path+'dt_country.csv', index=False)\n",
    "fact_covid.to_csv(path+'ft_covid.csv', index=False)"
   ]
  }
 ],
 "metadata": {
  "kernelspec": {
   "name": "python3",
   "display_name": "Python 3.9.2 64-bit",
   "metadata": {
    "interpreter": {
     "hash": "26e36362cb8b07bc21426d265b7c85421e7f7c14fd8b27d7ed99a5505c1bd370"
    }
   }
  },
  "language_info": {
   "codemirror_mode": {
    "name": "ipython",
    "version": 3
   },
   "file_extension": ".py",
   "mimetype": "text/x-python",
   "name": "python",
   "nbconvert_exporter": "python",
   "pygments_lexer": "ipython3",
   "version": "3.9.2"
  }
 },
 "nbformat": 4,
 "nbformat_minor": 4
}